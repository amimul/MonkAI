{
 "cells": [
  {
   "cell_type": "code",
   "execution_count": null,
   "metadata": {
    "_cell_guid": "b1076dfc-b9ad-4769-8c92-a6c4dae69d19",
    "_uuid": "8f2839f25d086af736a60e9eeb907d3b93b6e0e5"
   },
   "outputs": [],
   "source": [
    "import numpy as np # linear algebra\n",
    "import pandas as pd # data processing, CSV file I/O (e.g. pd.read_csv)\n",
    "import matplotlib.pyplot as plt\n",
    "from PIL import Image, ImageDraw\n",
    "\n",
    "im=Image.open('../input/sign-language-mnist/amer_sign2.png')\n",
    "plt.imshow(im)\n",
    "\n",
    "im=Image.open('../input/sign-language-mnist/american_sign_language.PNG')\n",
    "plt.imshow(im)\n",
    "\n",
    "!git clone https://github.com/Tessellate-Imaging/monk_v1.git\n",
    "!cd monk_v1/installation/Misc && pip install -r requirements_kaggle.txt\n",
    "\n",
    "import os\n",
    "import sys\n",
    "sys.path.append(\"/kaggle/working/monk_v1/monk/\");\n",
    "from gluon_prototype import prototype\n",
    "gtf = prototype(verbose=1);\n",
    "gtf.Prototype(\"Sign_Language_MNIST\", \"Using-resnet18_v1\");\n",
    "gtf.Default(dataset_path=\"../input/train-dataset/train/\",\n",
    "            path_to_csv=\"../input/final-data-label/label_data.csv\", # updated csv file \n",
    "            model_name=\"resnet18_v1\", \n",
    "            freeze_base_network=False,\n",
    "            num_epochs=2);\n",
    "gtf.Train();\n",
    "\n",
    "# To check model on test images\n",
    "gtf = prototype(verbose=1);\n",
    "gtf.Prototype(\"Sign_Language_MNIST\", \"Using-resnet18_v1\", eval_infer=True);\n",
    "gtf.Dataset_Params(dataset_path=\"../input/test-dataset/test/test/\",\n",
    "                  path_to_csv=\"../input/test-dataset/test_label.csv\");\n",
    "gtf.Dataset();\n",
    "accuracy, class_based_accuracy = gtf.Evaluate();\n",
    "\n",
    "# To save predicted class of test images\n",
    "import os\n",
    "list_test=os.listdir(\"../input/test-dataset/test/test/\");\n",
    "from tqdm.notebook import tqdm\n",
    "combined = [];\n",
    "for i in tqdm(range(len(list_test))):\n",
    "    img_name = \"../input/test-dataset/test/test/\" + list_test[i];\n",
    "    predictions = gtf.Infer(img_name=img_name);\n",
    "    id_ = list_test[i].split(\".\")[0].split(\"test\")[0]\n",
    "    label = predictions[\"predicted_class\"];\n",
    "    if(label == \"dog\"):\n",
    "        label = 1;\n",
    "    else:\n",
    "        label = 0;    \n",
    "    combined.append([id_, label]);\n",
    "\n",
    "a = pd.DataFrame(combined, columns = ['id', 'label']);\n",
    "a.to_csv(\"submission.csv\", index=False);\n",
    "\n",
    "# To run model on some images\n",
    "sample = \"../input/test-dataset/test/test/image6.jpg\";\n",
    "predictions = gtf.Infer(img_name=sample);\n",
    "\n",
    "sample1 = \"../input/test-dataset/test/test/image10.jpg\";\n",
    "predictions1 = gtf.Infer(img_name=sample1);\n",
    "\n",
    "#Display \n",
    "from IPython.display import Image\n",
    "Image(filename=sample)\n",
    "\n",
    "from IPython.display import Image\n",
    "Image(filename=sample1)"
   ]
  },
  {
   "cell_type": "code",
   "execution_count": null,
   "metadata": {
    "_cell_guid": "79c7e3d0-c299-4dcb-8224-4455121ee9b0",
    "_uuid": "d629ff2d2480ee46fbb7e2d37f6b5fab8052498a",
    "collapsed": true
   },
   "outputs": [],
   "source": []
  }
 ],
 "metadata": {
  "kernelspec": {
   "display_name": "Python 3",
   "language": "python",
   "name": "python3"
  },
  "language_info": {
   "codemirror_mode": {
    "name": "ipython",
    "version": 3
   },
   "file_extension": ".py",
   "mimetype": "text/x-python",
   "name": "python",
   "nbconvert_exporter": "python",
   "pygments_lexer": "ipython3",
   "version": "3.7.3"
  }
 },
 "nbformat": 4,
 "nbformat_minor": 4
}
